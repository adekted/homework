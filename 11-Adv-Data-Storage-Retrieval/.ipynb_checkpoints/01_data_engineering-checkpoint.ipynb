{
 "cells": [
  {
   "cell_type": "code",
   "execution_count": 10,
   "metadata": {},
   "outputs": [],
   "source": [
    "# Importing Dependencies\n",
    "import pandas as pd\n",
    "\n",
    "# Reading data\n",
    "measurements_pd = pd.read_csv(\"Instructions/Resources/hawaii_measurements.csv\")\n",
    "stations_pd = pd.read_csv(\"Instructions/Resources/hawaii_stations.csv\")\n",
    "\n",
    "# Dropping null columns from measurements\n",
    "measurements_clean = measurements_pd.dropna(how='any')\n",
    "measurements_clean.to_csv('Instructions/Resources/measurements_clean.csv')"
   ]
  }
 ],
 "metadata": {
  "kernelspec": {
   "display_name": "Python 3",
   "language": "python",
   "name": "python3"
  },
  "language_info": {
   "codemirror_mode": {
    "name": "ipython",
    "version": 3
   },
   "file_extension": ".py",
   "mimetype": "text/x-python",
   "name": "python",
   "nbconvert_exporter": "python",
   "pygments_lexer": "ipython3",
   "version": "3.6.4"
  }
 },
 "nbformat": 4,
 "nbformat_minor": 2
}
