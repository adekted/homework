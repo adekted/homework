{
 "cells": [
  {
   "cell_type": "code",
   "execution_count": 1,
   "metadata": {},
   "outputs": [],
   "source": [
    "# Importing Dependencies\n",
    "import sqlalchemy\n",
    "from sqlalchemy.ext.automap import automap_base\n",
    "from sqlalchemy.orm import Session\n",
    "from sqlalchemy import create_engine, func\n",
    "\n",
    "import datetime as dt\n",
    "import numpy as np\n",
    "import pandas as pd\n",
    "from flask import Flask, jsonify"
   ]
  },
  {
   "cell_type": "code",
   "execution_count": 7,
   "metadata": {},
   "outputs": [],
   "source": [
    "# Setting up Database\n",
    "engine = create_engine(\"sqlite:///hawaii_6.sqlite\")\n",
    "Base = automap_base()\n",
    "Base.prepare(engine, reflect=True)\n",
    "\n",
    "measurements = Base.classes.measurements\n",
    "stations = Base.classes.stations\n",
    "session = Session(engine)"
   ]
  },
  {
   "cell_type": "code",
   "execution_count": null,
   "metadata": {},
   "outputs": [],
   "source": [
    "# Setting up Flask\n",
    "app = Flask(__name__)\n",
    "@app.route(\"/\")\n",
    "def welcome():\n",
    "    return (\"Available Routes:<br/>\"\n",
    "            \"/api/v1.0/<br/>\"\n",
    "            \"/api/v1.0/precipitation<br/>\"\n",
    "            \"/api/v1.0/stations<br/>\"\n",
    "            \"/api/v1.0/tobs\")\n",
    "\n",
    "@app.route(\"/api/v1.0/precipitation\")\n",
    "def precipitation():\n",
    "    meas_query = session.query(measurements).group_by(measurements.date).order_by(measurements.date.desc()).all()\n",
    "    dates = []\n",
    "    prcp = []\n",
    "    for measurements in meas_query:\n",
    "        dates.append(str(measurements.date))\n",
    "        prcp.append(measurements.prcp)\n",
    "    return jsonify(dict(zip(all_date, all_prcp)))\n",
    "\n",
    "@app.route(\"/api/v1.0/stations\")\n",
    "def stations():\n",
    "    stations_query = session.query(Station.station).all()\n",
    "    return jsonify(list(np.ravel(stations_query)))\n",
    "\n",
    "@app.route(\"/api/v1.0/tobs\")\n",
    "def tobs():\n",
    "    tobs_query = session.query(measurements.tobs).group_by(measurements.date).order_by(measurements.date.desc()).all()\n",
    "    return jsonify(list(np.ravel(tobs_query)))\n",
    "\n",
    "@app.route(\"/api/v1.0/<start_date>/\")\n",
    "def start_date(start_date):\n",
    "    weather = session.query(func.min(measurements.tobs),\\\n",
    "                          func.max(measurements.tobs),\\\n",
    "                          func.avg(measurements.tobs))\\\n",
    "    .filter(measurements.date >= start_date).first()\n",
    "    return jsonify({\"min\": weather[0], \"weather\": temps[1], \"weather\": temps[2]})\n",
    "\n",
    "@app.route(\"/api/v1.0/<start_date>/<end_date>/\")\n",
    "def start_end(start_date):\n",
    "    weather = session.query(func.min(measurements.tobs),\\\n",
    "                          func.max(measurements.tobs),\\\n",
    "                          func.avg(measurements.tobs))\\\n",
    "    .filter(measurements.date >= start_date, measurements.date <= end_date).first()\n",
    "    return jsonify({\"min\": weather[0], \"weather\": temps[1], \"weather\": temps[2]})\n",
    "\n",
    "if __name__ == '__main__':\n",
    "    app.run(debug=True)"
   ]
  }
 ],
 "metadata": {
  "kernelspec": {
   "display_name": "Python 3",
   "language": "python",
   "name": "python3"
  },
  "language_info": {
   "codemirror_mode": {
    "name": "ipython",
    "version": 3
   },
   "file_extension": ".py",
   "mimetype": "text/x-python",
   "name": "python",
   "nbconvert_exporter": "python",
   "pygments_lexer": "ipython3",
   "version": "3.6.4"
  }
 },
 "nbformat": 4,
 "nbformat_minor": 2
}
